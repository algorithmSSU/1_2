{
 "cells": [
  {
   "cell_type": "markdown",
   "metadata": {},
   "source": [
    "# 1강 기본 알고리즘"
   ]
  },
  {
   "cell_type": "code",
   "execution_count": 3,
   "metadata": {},
   "outputs": [
    {
     "name": "stdout",
     "output_type": "stream",
     "text": [
      "세 정수의 최댓값을 구합니다.\n",
      "a의 값 : b의 값 : c의 값 : 최댓값은 97179136입니다.\n"
     ]
    }
   ],
   "source": [
    "/* 세 정수 값을 입력하고 최댓값을 구합니다. */\n",
    "#include <stdio.h>\n",
    "int main(void)\n",
    "{\n",
    "\tint a, b, c;\n",
    "\tint max;     /* 최댓값 */\n",
    "\n",
    "\tprintf(\"세 정수의 최댓값을 구합니다.\\n\");\n",
    "\tprintf(\"a의 값 : \"); scanf(\"%d\", &a);\n",
    "\tprintf(\"b의 값 : \"); scanf(\"%d\", &b);\n",
    "\tprintf(\"c의 값 : \"); scanf(\"%d\", &c);\n",
    "\n",
    "\tmax = a;\n",
    "\tif (b> max) max = b;\n",
    "\tif (c> max) max = c;\n",
    "\n",
    "\tprintf(\"최댓값은 %d입니다.\\n\", max);\n",
    "\n",
    "\treturn 0;\n",
    "}\n"
   ]
  },
  {
   "cell_type": "code",
   "execution_count": null,
   "metadata": {},
   "outputs": [],
   "source": []
  }
 ],
 "metadata": {
  "interpreter": {
   "hash": "aa70fdf923cb5ce4a0baccd8798f3deb0560e58aa3e61555af43cf72c2363bc8"
  },
  "kernelspec": {
   "display_name": "C",
   "language": "c",
   "name": "c"
  },
  "language_info": {
   "file_extension": ".c",
   "mimetype": "text/plain",
   "name": "c"
  }
 },
 "nbformat": 4,
 "nbformat_minor": 2
}
