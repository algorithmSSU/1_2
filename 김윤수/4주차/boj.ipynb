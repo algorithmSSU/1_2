{
 "cells": [
  {
   "cell_type": "markdown",
   "metadata": {},
   "source": [
    "# boj1052 물병\n",
    "```\n",
    "지민이는 N개의 물병을 가지고 있다. 각 물병에는 물을 무한대로 부을 수 있다. 처음에 모든 물병에는 물이 1리터씩 들어있다. 지민이는 이 물병을 또 다른 장소로 옮기려고 한다. 지민이는 한 번에 K개의 물병을 옮길 수 있다. 하지만, 지민이는 물을 낭비하기는 싫고, 이동을 한 번보다 많이 하기는 싫다. 따라서, 지민이는 물병의 물을 적절히 재분배해서, K개를 넘지 않는 비어있지 않은 물병을 만들려고 한다.\n",
    "\n",
    "물은 다음과 같이 재분배 한다.\n",
    "\n",
    "먼저 같은 양의 물이 들어있는 물병 두 개를 고른다. 그 다음에 한 개의 물병에 다른 한 쪽에 있는 물을 모두 붓는다. 이 방법을 필요한 만큼 계속 한다.\n",
    "\n",
    "이런 제약 때문에, N개로 K개를 넘지않는 비어있지 않은 물병을 만드는 것이 불가능할 수도 있다. 다행히도, 새로운 물병을 살 수 있다. 상점에서 사는 물병은 물이 1리터 들어있다.\n",
    "\n",
    "예를 들어, N=3이고, K=1일 때를 보면, 물병 3개로 1개를 만드는 것이 불가능하다. 한 병을 또다른 병에 부으면, 2리터가 들어있는 물병 하나와, 1리터가 들어있는 물병 하나가 남는다. 만약 상점에서 한 개의 물병을 산다면, 2리터가 들어있는 물병 두 개를 만들 수 있고, 마지막으로 4리터가 들어있는 물병 한 개를 만들 수 있다.\n",
    "```\n",
    "\n",
    "- 입력\n",
    "    - 첫째 줄에 N과 K가 주어진다. N은 107보다 작거나 같은 자연수이고, K는 1,000보다 작거나 같은 자연수이다.\n",
    "- 출력\n",
    "    - 첫째 줄에 상점에서 사야하는 물병의 최솟값을 출력한다. 만약 정답이 없을 경우에는 -1을 출력한다.\n"
   ]
  },
  {
   "cell_type": "markdown",
   "metadata": {},
   "source": [
    "- N : 가지고있는 물병\n",
    "- K : 비어있지 않아야하는 물병의 갯수\n",
    "- return : 상점에서 사야하는 물병의 갯수"
   ]
  },
  {
   "cell_type": "code",
   "execution_count": 63,
   "metadata": {},
   "outputs": [
    {
     "name": "stdout",
     "output_type": "stream",
     "text": [
      "0 0\n",
      "1 0\n",
      "2 0\n",
      "3 0\n",
      "4 0\n",
      "5 0\n",
      "6 1\n",
      "7 0\n",
      "8 0\n",
      "9 1\n",
      "10 0\n",
      "11 0\n",
      "12 0\n",
      "13 0\n",
      "14 1\n",
      "15 0\n",
      "16 1\n",
      "17 1\n",
      "18 1\n",
      "19 1\n"
     ]
    }
   ],
   "source": [
    "a = 1000000\n",
    "count = 0\n",
    "while a > 1:\n",
    "    k = int(a % 2)\n",
    "    a /= 2\n",
    "    print(count,k)\n",
    "    count +=1"
   ]
  },
  {
   "cell_type": "markdown",
   "metadata": {},
   "source": [
    "```\n",
    "2로 계속 나눈 나머지로 표현할수 있기 때문에 \n",
    "이진수로 표현 후 1의 갯수가 K와 같을때까지 \n",
    "제일 작은 나머지가있는 곳 부터 더한다\n",
    "```"
   ]
  },
  {
   "cell_type": "code",
   "execution_count": 60,
   "metadata": {},
   "outputs": [],
   "source": [
    "def solution(N,K):\n",
    "    answer = 0\n",
    "    while bin(N).count('1') > K:\n",
    "        plus = 2 ** (bin(N)[::-1].index('1'))\n",
    "        answer += plus\n",
    "        N += plus\n",
    "    return answer"
   ]
  },
  {
   "cell_type": "code",
   "execution_count": 62,
   "metadata": {},
   "outputs": [
    {
     "data": {
      "text/plain": [
       "15808"
      ]
     },
     "execution_count": 62,
     "metadata": {},
     "output_type": "execute_result"
    }
   ],
   "source": [
    "solution(1000000,5)"
   ]
  },
  {
   "cell_type": "code",
   "execution_count": null,
   "metadata": {},
   "outputs": [],
   "source": [
    "N,K = map(int, input().split())\n",
    "answer = 0\n",
    "while bin(N).count('1') > K:\n",
    "    plus = 2 ** (bin(N)[::-1].index('1'))\n",
    "    answer += plus\n",
    "    N += plus\n",
    "print(answer)"
   ]
  },
  {
   "cell_type": "markdown",
   "metadata": {},
   "source": [
    "# boj 2798 블랙잭\n",
    "```\n",
    "카지노에서 제일 인기 있는 게임 블랙잭의 규칙은 상당히 쉽다. 카드의 합이 21을 넘지 않는 한도 내에서, 카드의 합을 최대한 크게 만드는 게임이다. 블랙잭은 카지노마다 다양한 규정이 있다.\n",
    "\n",
    "한국 최고의 블랙잭 고수 김정인은 새로운 블랙잭 규칙을 만들어 상근, 창영이와 게임하려고 한다.\n",
    "\n",
    "김정인 버전의 블랙잭에서 각 카드에는 양의 정수가 쓰여 있다. 그 다음, 딜러는 N장의 카드를 모두 숫자가 보이도록 바닥에 놓는다. 그런 후에 딜러는 숫자 M을 크게 외친다.\n",
    "\n",
    "이제 플레이어는 제한된 시간 안에 N장의 카드 중에서 3장의 카드를 골라야 한다. 블랙잭 변형 게임이기 때문에, 플레이어가 고른 카드의 합은 M을 넘지 않으면서 M과 최대한 가깝게 만들어야 한다.\n",
    "\n",
    "N장의 카드에 써져 있는 숫자가 주어졌을 때, M을 넘지 않으면서 M에 최대한 가까운 카드 3장의 합을 구해 출력하시오.\n",
    "```"
   ]
  },
  {
   "cell_type": "markdown",
   "metadata": {},
   "source": [
    "1. 첫째 줄\n",
    "    - N: 카드 갯수\n",
    "    - M: 블랙잭 넘버\n",
    "2. 카드에 쓰여진 수(배열)\n",
    "출력값 : M에 최대한 가까운 3장의 합\n"
   ]
  },
  {
   "cell_type": "markdown",
   "metadata": {},
   "source": [
    "브루트 포스를 이용하여 카드의 배열중 3개씩 계속 더하여 M에 최대한 가까운 숫자를 리턴한다.\n"
   ]
  },
  {
   "cell_type": "code",
   "execution_count": null,
   "metadata": {},
   "outputs": [],
   "source": [
    "N,M = map(int, input().split())\n",
    "arr = list(map(int,input().split()))\n",
    "\n",
    "for i in range(N-3):\n",
    "    "
   ]
  }
 ],
 "metadata": {
  "kernelspec": {
   "display_name": "Python 3.9.7 ('base')",
   "language": "python",
   "name": "python3"
  },
  "language_info": {
   "codemirror_mode": {
    "name": "ipython",
    "version": 3
   },
   "file_extension": ".py",
   "mimetype": "text/x-python",
   "name": "python",
   "nbconvert_exporter": "python",
   "pygments_lexer": "ipython3",
   "version": "3.9.7"
  },
  "orig_nbformat": 4,
  "vscode": {
   "interpreter": {
    "hash": "aa70fdf923cb5ce4a0baccd8798f3deb0560e58aa3e61555af43cf72c2363bc8"
   }
  }
 },
 "nbformat": 4,
 "nbformat_minor": 2
}
