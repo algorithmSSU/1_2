{
 "cells": [
  {
   "cell_type": "code",
   "execution_count": null,
   "metadata": {},
   "outputs": [],
   "source": [
    "def solution(citations):\n",
    "    citations.sort()\n",
    "    citLen = len(citations)\n",
    "    for idx, value in enumerate(citations):\n",
    "        if value  >= citLen - idx:\n",
    "            return citLen - idx\n",
    "    return 0"
   ]
  }
 ],
 "metadata": {
  "language_info": {
   "name": "python"
  },
  "orig_nbformat": 4
 },
 "nbformat": 4,
 "nbformat_minor": 2
}
